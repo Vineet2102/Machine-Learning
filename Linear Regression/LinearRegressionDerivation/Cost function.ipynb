{
 "cells": [
  {
   "cell_type": "markdown",
   "id": "bd90195e",
   "metadata": {},
   "source": [
    "# Implement and explore cost function for linear regression with oenn variable"
   ]
  },
  {
   "cell_type": "code",
   "execution_count": 1,
   "id": "237dd440",
   "metadata": {},
   "outputs": [],
   "source": [
    "import numpy as np\n",
    "import matplotlib.pyplot as plt\n",
    "import seaborn as sns"
   ]
  },
  {
   "cell_type": "markdown",
   "id": "1dd72bad",
   "metadata": {},
   "source": [
    "# Problem statement \n",
    "\n",
    "\n",
    "| Size (1000 sqft)     | Price (1000s of dollars) |\n",
    "| -------------------| ------------------------ |\n",
    "| 1                 | 300                      |\n",
    "| 2                  | 500                      |"
   ]
  },
  {
   "cell_type": "code",
   "execution_count": 2,
   "id": "0722010d",
   "metadata": {},
   "outputs": [],
   "source": [
    "x_train = np.array([1.0,2.0])\n",
    "y_train = np.array([300.0,500.0])"
   ]
  },
  {
   "cell_type": "markdown",
   "id": "36fb0cf0",
   "metadata": {},
   "source": [
    "# Compute Cost \n",
    "\n",
    "\n",
    "The equation for cost with one variable is:\n",
    "  $$J(w,b) = \\frac{1}{2m} \\sum\\limits_{i = 0}^{m-1} (f_{w,b}(x^{(i)}) - y^{(i)})^2 \\tag{1}$$ \n",
    " \n",
    "where \n",
    "  $$f_{w,b}(x^{(i)}) = wx^{(i)} + b \\tag{2}$$"
   ]
  },
  {
   "cell_type": "code",
   "execution_count": 3,
   "id": "f61581de",
   "metadata": {},
   "outputs": [],
   "source": [
    "def compute_cost(x,y,w,b):\n",
    "    \"\"\"\n",
    "    Computes the cost function for linear regression.\n",
    "    \n",
    "    Args:\n",
    "      x (ndarray (m,)): Data, m examples \n",
    "      y (ndarray (m,)): target values\n",
    "      w,b (scalar)    : model parameters  \n",
    "    \n",
    "    Returns\n",
    "        total_cost (float): The cost of using w,b as the parameters for linear regression\n",
    "               to fit the data points in x and y\n",
    "    \"\"\"\n",
    "    # m is the size of training examples\n",
    "    m = x.shape[0]\n",
    "    total_cost = 0\n",
    "    for i in range(m):\n",
    "        f_wb = w * x[i] + b\n",
    "        total_cost = total_cost + (f_wb - y[i])**2\n",
    "        \n",
    "    total_cost = (1 / (2 * m)) * total_cost\n",
    "    return total_cost"
   ]
  },
  {
   "cell_type": "code",
   "execution_count": 4,
   "id": "a9d6b390",
   "metadata": {},
   "outputs": [],
   "source": [
    "a = compute_cost(x_train,y_train,100,100)"
   ]
  },
  {
   "cell_type": "code",
   "execution_count": 5,
   "id": "af7ddf45",
   "metadata": {},
   "outputs": [
    {
     "data": {
      "text/plain": [
       "12500.0"
      ]
     },
     "execution_count": 5,
     "metadata": {},
     "output_type": "execute_result"
    }
   ],
   "source": [
    "a"
   ]
  },
  {
   "cell_type": "markdown",
   "id": "3bce78d0",
   "metadata": {},
   "source": [
    "# Hence implemented cost function calculation"
   ]
  },
  {
   "cell_type": "code",
   "execution_count": null,
   "id": "39f615a5",
   "metadata": {},
   "outputs": [],
   "source": []
  }
 ],
 "metadata": {
  "kernelspec": {
   "display_name": "Python 3 (ipykernel)",
   "language": "python",
   "name": "python3"
  },
  "language_info": {
   "codemirror_mode": {
    "name": "ipython",
    "version": 3
   },
   "file_extension": ".py",
   "mimetype": "text/x-python",
   "name": "python",
   "nbconvert_exporter": "python",
   "pygments_lexer": "ipython3",
   "version": "3.9.12"
  }
 },
 "nbformat": 4,
 "nbformat_minor": 5
}
