{
 "cells": [
  {
   "cell_type": "code",
   "execution_count": 1,
   "id": "d3f8f660",
   "metadata": {},
   "outputs": [],
   "source": [
    "import numpy as np\n",
    "import pandas as pd\n",
    "import matplotlib.pyplot as plt\n",
    "import seaborn as sns"
   ]
  },
  {
   "cell_type": "code",
   "execution_count": 2,
   "id": "bca87c9a",
   "metadata": {},
   "outputs": [],
   "source": [
    "train = pd.read_csv('train.csv')"
   ]
  },
  {
   "cell_type": "code",
   "execution_count": 3,
   "id": "b492e0c7",
   "metadata": {},
   "outputs": [],
   "source": [
    "test = pd.read_csv('test.csv')"
   ]
  },
  {
   "cell_type": "code",
   "execution_count": 4,
   "id": "290f6cbb",
   "metadata": {},
   "outputs": [
    {
     "data": {
      "text/html": [
       "<div>\n",
       "<style scoped>\n",
       "    .dataframe tbody tr th:only-of-type {\n",
       "        vertical-align: middle;\n",
       "    }\n",
       "\n",
       "    .dataframe tbody tr th {\n",
       "        vertical-align: top;\n",
       "    }\n",
       "\n",
       "    .dataframe thead th {\n",
       "        text-align: right;\n",
       "    }\n",
       "</style>\n",
       "<table border=\"1\" class=\"dataframe\">\n",
       "  <thead>\n",
       "    <tr style=\"text-align: right;\">\n",
       "      <th></th>\n",
       "      <th>x</th>\n",
       "      <th>y</th>\n",
       "    </tr>\n",
       "  </thead>\n",
       "  <tbody>\n",
       "    <tr>\n",
       "      <th>0</th>\n",
       "      <td>24.0</td>\n",
       "      <td>21.549452</td>\n",
       "    </tr>\n",
       "    <tr>\n",
       "      <th>1</th>\n",
       "      <td>50.0</td>\n",
       "      <td>47.464463</td>\n",
       "    </tr>\n",
       "    <tr>\n",
       "      <th>2</th>\n",
       "      <td>15.0</td>\n",
       "      <td>17.218656</td>\n",
       "    </tr>\n",
       "    <tr>\n",
       "      <th>3</th>\n",
       "      <td>38.0</td>\n",
       "      <td>36.586398</td>\n",
       "    </tr>\n",
       "    <tr>\n",
       "      <th>4</th>\n",
       "      <td>87.0</td>\n",
       "      <td>87.288984</td>\n",
       "    </tr>\n",
       "  </tbody>\n",
       "</table>\n",
       "</div>"
      ],
      "text/plain": [
       "      x          y\n",
       "0  24.0  21.549452\n",
       "1  50.0  47.464463\n",
       "2  15.0  17.218656\n",
       "3  38.0  36.586398\n",
       "4  87.0  87.288984"
      ]
     },
     "execution_count": 4,
     "metadata": {},
     "output_type": "execute_result"
    }
   ],
   "source": [
    "train.head()"
   ]
  },
  {
   "cell_type": "code",
   "execution_count": 5,
   "id": "1b51c03d",
   "metadata": {
    "scrolled": true
   },
   "outputs": [
    {
     "data": {
      "text/html": [
       "<div>\n",
       "<style scoped>\n",
       "    .dataframe tbody tr th:only-of-type {\n",
       "        vertical-align: middle;\n",
       "    }\n",
       "\n",
       "    .dataframe tbody tr th {\n",
       "        vertical-align: top;\n",
       "    }\n",
       "\n",
       "    .dataframe thead th {\n",
       "        text-align: right;\n",
       "    }\n",
       "</style>\n",
       "<table border=\"1\" class=\"dataframe\">\n",
       "  <thead>\n",
       "    <tr style=\"text-align: right;\">\n",
       "      <th></th>\n",
       "      <th>x</th>\n",
       "      <th>y</th>\n",
       "    </tr>\n",
       "  </thead>\n",
       "  <tbody>\n",
       "    <tr>\n",
       "      <th>0</th>\n",
       "      <td>77</td>\n",
       "      <td>79.775152</td>\n",
       "    </tr>\n",
       "    <tr>\n",
       "      <th>1</th>\n",
       "      <td>21</td>\n",
       "      <td>23.177279</td>\n",
       "    </tr>\n",
       "    <tr>\n",
       "      <th>2</th>\n",
       "      <td>22</td>\n",
       "      <td>25.609262</td>\n",
       "    </tr>\n",
       "    <tr>\n",
       "      <th>3</th>\n",
       "      <td>20</td>\n",
       "      <td>17.857388</td>\n",
       "    </tr>\n",
       "    <tr>\n",
       "      <th>4</th>\n",
       "      <td>36</td>\n",
       "      <td>41.849864</td>\n",
       "    </tr>\n",
       "  </tbody>\n",
       "</table>\n",
       "</div>"
      ],
      "text/plain": [
       "    x          y\n",
       "0  77  79.775152\n",
       "1  21  23.177279\n",
       "2  22  25.609262\n",
       "3  20  17.857388\n",
       "4  36  41.849864"
      ]
     },
     "execution_count": 5,
     "metadata": {},
     "output_type": "execute_result"
    }
   ],
   "source": [
    "test.head()"
   ]
  },
  {
   "cell_type": "code",
   "execution_count": 6,
   "id": "37efd1a9",
   "metadata": {},
   "outputs": [
    {
     "data": {
      "text/html": [
       "<div>\n",
       "<style scoped>\n",
       "    .dataframe tbody tr th:only-of-type {\n",
       "        vertical-align: middle;\n",
       "    }\n",
       "\n",
       "    .dataframe tbody tr th {\n",
       "        vertical-align: top;\n",
       "    }\n",
       "\n",
       "    .dataframe thead th {\n",
       "        text-align: right;\n",
       "    }\n",
       "</style>\n",
       "<table border=\"1\" class=\"dataframe\">\n",
       "  <thead>\n",
       "    <tr style=\"text-align: right;\">\n",
       "      <th></th>\n",
       "      <th>x</th>\n",
       "      <th>y</th>\n",
       "    </tr>\n",
       "  </thead>\n",
       "  <tbody>\n",
       "    <tr>\n",
       "      <th>count</th>\n",
       "      <td>700.000000</td>\n",
       "      <td>699.000000</td>\n",
       "    </tr>\n",
       "    <tr>\n",
       "      <th>mean</th>\n",
       "      <td>54.985939</td>\n",
       "      <td>49.939869</td>\n",
       "    </tr>\n",
       "    <tr>\n",
       "      <th>std</th>\n",
       "      <td>134.681703</td>\n",
       "      <td>29.109217</td>\n",
       "    </tr>\n",
       "    <tr>\n",
       "      <th>min</th>\n",
       "      <td>0.000000</td>\n",
       "      <td>-3.839981</td>\n",
       "    </tr>\n",
       "    <tr>\n",
       "      <th>25%</th>\n",
       "      <td>25.000000</td>\n",
       "      <td>24.929968</td>\n",
       "    </tr>\n",
       "    <tr>\n",
       "      <th>50%</th>\n",
       "      <td>49.000000</td>\n",
       "      <td>48.973020</td>\n",
       "    </tr>\n",
       "    <tr>\n",
       "      <th>75%</th>\n",
       "      <td>75.000000</td>\n",
       "      <td>74.929911</td>\n",
       "    </tr>\n",
       "    <tr>\n",
       "      <th>max</th>\n",
       "      <td>3530.157369</td>\n",
       "      <td>108.871618</td>\n",
       "    </tr>\n",
       "  </tbody>\n",
       "</table>\n",
       "</div>"
      ],
      "text/plain": [
       "                 x           y\n",
       "count   700.000000  699.000000\n",
       "mean     54.985939   49.939869\n",
       "std     134.681703   29.109217\n",
       "min       0.000000   -3.839981\n",
       "25%      25.000000   24.929968\n",
       "50%      49.000000   48.973020\n",
       "75%      75.000000   74.929911\n",
       "max    3530.157369  108.871618"
      ]
     },
     "execution_count": 6,
     "metadata": {},
     "output_type": "execute_result"
    }
   ],
   "source": [
    "train.describe()"
   ]
  },
  {
   "cell_type": "code",
   "execution_count": 7,
   "id": "64e0d94c",
   "metadata": {},
   "outputs": [
    {
     "data": {
      "text/html": [
       "<div>\n",
       "<style scoped>\n",
       "    .dataframe tbody tr th:only-of-type {\n",
       "        vertical-align: middle;\n",
       "    }\n",
       "\n",
       "    .dataframe tbody tr th {\n",
       "        vertical-align: top;\n",
       "    }\n",
       "\n",
       "    .dataframe thead th {\n",
       "        text-align: right;\n",
       "    }\n",
       "</style>\n",
       "<table border=\"1\" class=\"dataframe\">\n",
       "  <thead>\n",
       "    <tr style=\"text-align: right;\">\n",
       "      <th></th>\n",
       "      <th>x</th>\n",
       "      <th>y</th>\n",
       "    </tr>\n",
       "  </thead>\n",
       "  <tbody>\n",
       "    <tr>\n",
       "      <th>213</th>\n",
       "      <td>3530.157369</td>\n",
       "      <td>NaN</td>\n",
       "    </tr>\n",
       "  </tbody>\n",
       "</table>\n",
       "</div>"
      ],
      "text/plain": [
       "               x   y\n",
       "213  3530.157369 NaN"
      ]
     },
     "execution_count": 7,
     "metadata": {},
     "output_type": "execute_result"
    }
   ],
   "source": [
    "train[train['y'].isnull()]"
   ]
  },
  {
   "cell_type": "code",
   "execution_count": 8,
   "id": "41abf46c",
   "metadata": {},
   "outputs": [],
   "source": [
    "# drop the row which does not contain the y(i) value\n",
    "train = train.drop(213)"
   ]
  },
  {
   "cell_type": "code",
   "execution_count": 9,
   "id": "932dfd13",
   "metadata": {},
   "outputs": [
    {
     "data": {
      "text/plain": [
       "x    False\n",
       "y    False\n",
       "dtype: bool"
      ]
     },
     "execution_count": 9,
     "metadata": {},
     "output_type": "execute_result"
    }
   ],
   "source": [
    "train[train.isnull()].any()"
   ]
  },
  {
   "cell_type": "code",
   "execution_count": 10,
   "id": "a960b8fc",
   "metadata": {},
   "outputs": [
    {
     "data": {
      "text/html": [
       "<div>\n",
       "<style scoped>\n",
       "    .dataframe tbody tr th:only-of-type {\n",
       "        vertical-align: middle;\n",
       "    }\n",
       "\n",
       "    .dataframe tbody tr th {\n",
       "        vertical-align: top;\n",
       "    }\n",
       "\n",
       "    .dataframe thead th {\n",
       "        text-align: right;\n",
       "    }\n",
       "</style>\n",
       "<table border=\"1\" class=\"dataframe\">\n",
       "  <thead>\n",
       "    <tr style=\"text-align: right;\">\n",
       "      <th></th>\n",
       "      <th>x</th>\n",
       "      <th>y</th>\n",
       "    </tr>\n",
       "  </thead>\n",
       "  <tbody>\n",
       "    <tr>\n",
       "      <th>count</th>\n",
       "      <td>699.000000</td>\n",
       "      <td>699.000000</td>\n",
       "    </tr>\n",
       "    <tr>\n",
       "      <th>mean</th>\n",
       "      <td>50.014306</td>\n",
       "      <td>49.939869</td>\n",
       "    </tr>\n",
       "    <tr>\n",
       "      <th>std</th>\n",
       "      <td>28.954560</td>\n",
       "      <td>29.109217</td>\n",
       "    </tr>\n",
       "    <tr>\n",
       "      <th>min</th>\n",
       "      <td>0.000000</td>\n",
       "      <td>-3.839981</td>\n",
       "    </tr>\n",
       "    <tr>\n",
       "      <th>25%</th>\n",
       "      <td>25.000000</td>\n",
       "      <td>24.929968</td>\n",
       "    </tr>\n",
       "    <tr>\n",
       "      <th>50%</th>\n",
       "      <td>49.000000</td>\n",
       "      <td>48.973020</td>\n",
       "    </tr>\n",
       "    <tr>\n",
       "      <th>75%</th>\n",
       "      <td>75.000000</td>\n",
       "      <td>74.929911</td>\n",
       "    </tr>\n",
       "    <tr>\n",
       "      <th>max</th>\n",
       "      <td>100.000000</td>\n",
       "      <td>108.871618</td>\n",
       "    </tr>\n",
       "  </tbody>\n",
       "</table>\n",
       "</div>"
      ],
      "text/plain": [
       "                x           y\n",
       "count  699.000000  699.000000\n",
       "mean    50.014306   49.939869\n",
       "std     28.954560   29.109217\n",
       "min      0.000000   -3.839981\n",
       "25%     25.000000   24.929968\n",
       "50%     49.000000   48.973020\n",
       "75%     75.000000   74.929911\n",
       "max    100.000000  108.871618"
      ]
     },
     "execution_count": 10,
     "metadata": {},
     "output_type": "execute_result"
    }
   ],
   "source": [
    "# now no values are missing and dataset is ready\n",
    "train.describe()"
   ]
  },
  {
   "cell_type": "markdown",
   "id": "5781534d",
   "metadata": {},
   "source": [
    "# Normalize the data"
   ]
  },
  {
   "cell_type": "code",
   "execution_count": 11,
   "id": "891582aa",
   "metadata": {},
   "outputs": [],
   "source": [
    "train_norm = (train-train.min()) / (train.max() - train.min())\n",
    "test_norm = (test-test.min()) / (test.max() - test.min())"
   ]
  },
  {
   "cell_type": "code",
   "execution_count": 12,
   "id": "dbb9e3f3",
   "metadata": {},
   "outputs": [
    {
     "data": {
      "text/html": [
       "<div>\n",
       "<style scoped>\n",
       "    .dataframe tbody tr th:only-of-type {\n",
       "        vertical-align: middle;\n",
       "    }\n",
       "\n",
       "    .dataframe tbody tr th {\n",
       "        vertical-align: top;\n",
       "    }\n",
       "\n",
       "    .dataframe thead th {\n",
       "        text-align: right;\n",
       "    }\n",
       "</style>\n",
       "<table border=\"1\" class=\"dataframe\">\n",
       "  <thead>\n",
       "    <tr style=\"text-align: right;\">\n",
       "      <th></th>\n",
       "      <th>x</th>\n",
       "      <th>y</th>\n",
       "    </tr>\n",
       "  </thead>\n",
       "  <tbody>\n",
       "    <tr>\n",
       "      <th>0</th>\n",
       "      <td>0.24</td>\n",
       "      <td>0.225260</td>\n",
       "    </tr>\n",
       "    <tr>\n",
       "      <th>1</th>\n",
       "      <td>0.50</td>\n",
       "      <td>0.455183</td>\n",
       "    </tr>\n",
       "    <tr>\n",
       "      <th>2</th>\n",
       "      <td>0.15</td>\n",
       "      <td>0.186836</td>\n",
       "    </tr>\n",
       "    <tr>\n",
       "      <th>3</th>\n",
       "      <td>0.38</td>\n",
       "      <td>0.358671</td>\n",
       "    </tr>\n",
       "    <tr>\n",
       "      <th>4</th>\n",
       "      <td>0.87</td>\n",
       "      <td>0.808515</td>\n",
       "    </tr>\n",
       "  </tbody>\n",
       "</table>\n",
       "</div>"
      ],
      "text/plain": [
       "      x         y\n",
       "0  0.24  0.225260\n",
       "1  0.50  0.455183\n",
       "2  0.15  0.186836\n",
       "3  0.38  0.358671\n",
       "4  0.87  0.808515"
      ]
     },
     "execution_count": 12,
     "metadata": {},
     "output_type": "execute_result"
    }
   ],
   "source": [
    "train_norm.head()"
   ]
  },
  {
   "cell_type": "code",
   "execution_count": 13,
   "id": "c7546c8b",
   "metadata": {},
   "outputs": [],
   "source": [
    "x_train = train_norm['x']\n",
    "y_train = train_norm['y']"
   ]
  },
  {
   "cell_type": "code",
   "execution_count": 14,
   "id": "47b1bd80",
   "metadata": {},
   "outputs": [
    {
     "data": {
      "image/png": "[encoded data removed]",
      "text/plain": [
       "<Figure size 432x288 with 1 Axes>"
      ]
     },
     "metadata": {
      "needs_background": "light"
     },
     "output_type": "display_data"
    }
   ],
   "source": [
    "x_train = train_norm['x']\n",
    "y_train = train_norm['y']\n",
    "plt.scatter(x_train,y_train,c='blue')\n",
    "plt.show()"
   ]
  },
  {
   "cell_type": "markdown",
   "id": "348eba49",
   "metadata": {},
   "source": [
    "# calculate mean squared function or cost function J(w,b)\n",
    " y=wx+b w=weight b=constant"
   ]
  },
  {
   "cell_type": "code",
   "execution_count": 15,
   "id": "169a9e9e",
   "metadata": {},
   "outputs": [],
   "source": [
    "#mean squared cost fuction\n",
    "def cost(x,y,w,b):\n",
    "    n=x.shape[0]\n",
    "    yhat=0.0\n",
    "    diff=0.0\n",
    "    for i in range(n):\n",
    "        if i!=213:\n",
    "            yhat=w*x[i]+b#function is linear as y=mx+c\n",
    "            diff=diff+(yhat-y[i])**2\n",
    "    diff=diff/(2*n)\n",
    "    return diff"
   ]
  },
  {
   "cell_type": "markdown",
   "id": "f952c9de",
   "metadata": {},
   "source": [
    "# Calculate Gradient"
   ]
  },
  {
   "cell_type": "code",
   "execution_count": 16,
   "id": "c6e05c38",
   "metadata": {},
   "outputs": [],
   "source": [
    "def calc_gradient(x,y,w,b):\n",
    "    m=x.shape[0]\n",
    "    yhat=0.0\n",
    "    dj_dw=0.0\n",
    "    dj_db=0.0\n",
    "    for i in range(m):\n",
    "        if i!=213:\n",
    "            yhat=np.dot(w,x[i])+b\n",
    "            # dj_dw=dj_dw+(yhat)\n",
    "            # dj_db=dj_db+(yhat)\n",
    "            dj_dw=dj_dw+(yhat-y[i])*x[i]\n",
    "            dj_db=dj_db+(yhat-y[i])\n",
    "    #         if(i%100==0):\n",
    "    #             print(f'Found :{dj_dw,dj_db}')\n",
    "    dj_dw=dj_dw/m\n",
    "    dj_db=dj_db/m\n",
    "    return dj_dw,dj_db"
   ]
  },
  {
   "cell_type": "markdown",
   "id": "3fb6f668",
   "metadata": {},
   "source": [
    "# Calculate Gradient Descent"
   ]
  },
  {
   "cell_type": "code",
   "execution_count": 17,
   "id": "cd674d0d",
   "metadata": {},
   "outputs": [],
   "source": [
    "def gradient_descent(x,y,w,b,pd_hist,w_hist,alpha,iter):\n",
    "    dw=0.0\n",
    "    db=0.0\n",
    "    w_prev=0.0\n",
    "    for i in range(iter):\n",
    "        dw,db=calc_gradient(x,y,w,b)\n",
    "        w=w-alpha*dw\n",
    "        if abs(w_prev-w)<0.00001:\n",
    "            break\n",
    "        w_prev=w\n",
    "        pd_hist.append(cost(x,y,w,b))\n",
    "        w_hist.append(w)\n",
    "        b=b-alpha*db            \n",
    "        if (i%10==0):\n",
    "            print(f'Caculating the weight and constant:{w,b}')\n",
    "        \n",
    "    return w,b,pd_hist,w_hist"
   ]
  },
  {
   "cell_type": "code",
   "execution_count": 18,
   "id": "902df0c4",
   "metadata": {},
   "outputs": [
    {
     "name": "stdout",
     "output_type": "stream",
     "text": [
      "Caculating the weight and constant:(0.06234967890958899, 0.09517828506768494)\n",
      "Caculating the weight and constant:(0.29445315775672926, 0.3299119961778574)\n",
      "Caculating the weight and constant:(0.3751209579507111, 0.3061778306208815)\n",
      "Caculating the weight and constant:(0.439147234025088, 0.2729907916786485)\n",
      "Caculating the weight and constant:(0.49486867900198866, 0.24325234605709709)\n",
      "Caculating the weight and constant:(0.5436550649259837, 0.2171685497302922)\n",
      "Caculating the weight and constant:(0.586385443434306, 0.19432009772656078)\n",
      "Caculating the weight and constant:(0.6238124266894177, 0.17430729932726943)\n",
      "Caculating the weight and constant:(0.6565942815054135, 0.15677831702285197)\n",
      "Caculating the weight and constant:(0.6853075254244753, 0.1414248856677537)\n",
      "Caculating the weight and constant:(0.7104571206942663, 0.12797699429436257)\n",
      "Caculating the weight and constant:(0.7324853577067196, 0.11619814317003138)\n",
      "Caculating the weight and constant:(0.7517796334468024, 0.10588118492379796)\n",
      "Caculating the weight and constant:(0.7686792644124745, 0.09684468158993878)\n",
      "Caculating the weight and constant:(0.7834814539646126, 0.08892971377152788)\n",
      "Caculating the weight and constant:(0.7964465190587844, 0.08199708582330979)\n",
      "Caculating the weight and constant:(0.8078024682785966, 0.07592487790395233)\n",
      "Caculating the weight and constant:(0.8177490116816781, 0.07060630184717934)\n",
      "Caculating the weight and constant:(0.8264610729769837, 0.06594782314431692)\n",
      "Caculating the weight and constant:(0.8340918657999105, 0.06186751601072115)\n",
      "Caculating the weight and constant:(0.8407755881857716, 0.05829362260765748)\n",
      "Caculating the weight and constant:(0.8466297826276706, 0.055163291081558416)\n",
      "Caculating the weight and constant:(0.851757403223652, 0.05242147022733548)\n",
      "Caculating the weight and constant:(0.8562486262667668, 0.05001994133687311)\n",
      "Caculating the weight and constant:(0.8601824361197841, 0.04791647020642257)\n",
      "Caculating the weight and constant:(0.863628014264343, 0.04607406438977334)\n",
      "Caculating the weight and constant:(0.8666459559528958, 0.04446032263497415)\n",
      "Caculating the weight and constant:(0.8692893358599486, 0.04304686506354792)\n",
      "Caculating the weight and constant:(0.8716046414735437, 0.041808834071116484)\n",
      "Caculating the weight and constant:(0.8736325906419711, 0.0407244571720815)\n",
      "Caculating the weight and constant:(0.8754088476533898, 0.039774664100381815)\n",
      "Caculating the weight and constant:(0.8769646504416126, 0.03894275143251573)\n",
      "Caculating the weight and constant:(0.8783273599483352, 0.03821408883475884)\n",
      "Caculating the weight and constant:(0.8795209413030984, 0.0375758617685312)\n",
      "Caculating the weight and constant:(0.8805663852832062, 0.03701684612903014)\n",
      "Caculating the weight and constant:(0.8814820774655461, 0.03652721085383916)\n",
      "Caculating the weight and constant:(0.8822841215623635, 0.036098345030111154)\n",
      "Caculating the weight and constant:(0.8829866226272907, 0.03572270645976902)\n",
      "Caculating the weight and constant:(0.8836019351122054, 0.035393689019530654)\n",
      "Caculating the weight and constant:(0.8841408801373369, 0.035105506483103656)\n",
      "Caculating the weight and constant:(0.8846129357956162, 0.03485309076240106)\n",
      "Caculating the weight and constant:(0.885026403838037, 0.03463200277820967)\n",
      "Caculating the weight and constant:(0.8853885556714169, 0.034438354392848494)\n",
      "Caculating the weight and constant:(0.885705760236134, 0.03426874003189566)\n",
      "Caculating the weight and constant:(0.8859835960127426, 0.0341201767924564)\n",
      "Caculating the weight and constant:(0.8862269491272621, 0.03399005198469419)\n",
      "Caculating the weight and constant:(0.886440099280454, 0.03387607718407019)\n",
      "Caculating the weight and constant:(0.8866267950122735, 0.03377624798623557)\n",
      "Caculating the weight and constant:(0.8867903196251231, 0.03368880875681179)\n",
      "Caculating the weight and constant:(0.8869335489252634, 0.03361222175613393)\n",
      "Caculating the weight and constant:(0.8870590017978381, 0.033545140095974216)\n",
      "Caculating the weight and constant:(0.8871688845049507, 0.033486384052651516)\n",
      "Found the weight and constant:(0.8871991085898704, 0.033475538622828115)\n"
     ]
    }
   ],
   "source": [
    "x_train=train_norm['x']\n",
    "y_train=train_norm['y']\n",
    "w=0.0\n",
    "b=0.0\n",
    "pd_hist=[]\n",
    "w_hist=[]\n",
    "iterations=8000\n",
    "alpha=0.2\n",
    "w_f,b_f,pd_hist,w_hist=gradient_descent(x_train,y_train,w,b,pd_hist,w_hist,alpha,iterations)\n",
    "print(f'Found the weight and constant:{w_f,b_f}')"
   ]
  },
  {
   "cell_type": "markdown",
   "id": "010af2ee",
   "metadata": {},
   "source": [
    "# Plot of loss vs weight"
   ]
  },
  {
   "cell_type": "code",
   "execution_count": 19,
   "id": "9d3925bf",
   "metadata": {},
   "outputs": [
    {
     "data": {
      "image/png": "[encoded data removed]",
      "text/plain": [
       "<Figure size 432x288 with 1 Axes>"
      ]
     },
     "metadata": {
      "needs_background": "light"
     },
     "output_type": "display_data"
    }
   ],
   "source": [
    "plt.plot(pd_hist,w_hist)\n",
    "plt.show()"
   ]
  },
  {
   "cell_type": "code",
   "execution_count": 20,
   "id": "e97862df",
   "metadata": {},
   "outputs": [
    {
     "name": "stdout",
     "output_type": "stream",
     "text": [
      "Found he weight and constant:(0.8871991085898704, 0.033475538622828115)\n"
     ]
    }
   ],
   "source": [
    "print(f'Found he weight and constant:{w_f,b_f}')\n"
   ]
  },
  {
   "cell_type": "code",
   "execution_count": 21,
   "id": "451408f0",
   "metadata": {},
   "outputs": [],
   "source": [
    "x_test=test_norm['x']\n",
    "y_test=test_norm['y']\n",
    "\n",
    "c_y_test=w_f*x_test+b_f"
   ]
  },
  {
   "cell_type": "code",
   "execution_count": 22,
   "id": "b815da1d",
   "metadata": {},
   "outputs": [
    {
     "data": {
      "text/plain": [
       "<matplotlib.collections.PathCollection at 0x247e08709a0>"
      ]
     },
     "execution_count": 22,
     "metadata": {},
     "output_type": "execute_result"
    },
    {
     "data": {
      "image/png": "[encoded data removed]",
      "text/plain": [
       "<Figure size 432x288 with 1 Axes>"
      ]
     },
     "metadata": {
      "needs_background": "light"
     },
     "output_type": "display_data"
    }
   ],
   "source": [
    "plt.scatter(x_test,y_test,c='blue')\n",
    "plt.scatter(x_test,c_y_test,c='red')"
   ]
  }
 ],
 "metadata": {
  "kernelspec": {
   "display_name": "Python 3 (ipykernel)",
   "language": "python",
   "name": "python3"
  },
  "language_info": {
   "codemirror_mode": {
    "name": "ipython",
    "version": 3
   },
   "file_extension": ".py",
   "mimetype": "text/x-python",
   "name": "python",
   "nbconvert_exporter": "python",
   "pygments_lexer": "ipython3",
   "version": "3.9.12"
  }
 },
 "nbformat": 4,
 "nbformat_minor": 5
}
